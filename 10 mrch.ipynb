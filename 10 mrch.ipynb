{
 "cells": [
  {
   "cell_type": "markdown",
   "id": "110b96fa-a252-4f19-84e8-904203f7af5a",
   "metadata": {},
   "source": [
    "Q1: What is Estimation Statistics? Explain point estimate and interval estimate."
   ]
  },
  {
   "cell_type": "markdown",
   "id": "c8fa2920-c5b7-4dac-9f47-2d4b1b6f8af6",
   "metadata": {},
   "source": [
    "Estimation is a specified observed numberical values used to estimate an unknown population parameter.\n",
    "\n",
    "point estimation is a single numberical value used to estimate an unknown population parameters.\n",
    "exaples:-sample mean is a point estimate of a population mean\n",
    "\n",
    "\n",
    "Interval estimate is a range of the value used to estimate the unknown population parameters"
   ]
  },
  {
   "cell_type": "markdown",
   "id": "07b6291f-e149-42e7-8be9-7c890e52432f",
   "metadata": {},
   "source": [
    "Q2. Write a Python function to estimate the population mean using a sample mean and standard\n",
    "deviation."
   ]
  },
  {
   "cell_type": "code",
   "execution_count": 2,
   "id": "fd4a7b33-24ed-4cfb-8373-ecdff14d23f2",
   "metadata": {},
   "outputs": [],
   "source": [
    "x=[3,4,5,6,5,4]"
   ]
  },
  {
   "cell_type": "code",
   "execution_count": 3,
   "id": "65bc20f0-bf2d-44aa-8dd0-a4f156686e33",
   "metadata": {},
   "outputs": [
    {
     "data": {
      "text/plain": [
       "[3, 4, 5, 6, 5, 4]"
      ]
     },
     "execution_count": 3,
     "metadata": {},
     "output_type": "execute_result"
    }
   ],
   "source": [
    "x"
   ]
  },
  {
   "cell_type": "code",
   "execution_count": 4,
   "id": "28fac0fc-829e-4554-b1df-a89139e97b86",
   "metadata": {},
   "outputs": [
    {
     "data": {
      "text/plain": [
       "4.5"
      ]
     },
     "execution_count": 4,
     "metadata": {},
     "output_type": "execute_result"
    }
   ],
   "source": [
    "import numpy as np\n",
    "np.mean(x)  # mean of the value"
   ]
  },
  {
   "cell_type": "code",
   "execution_count": 5,
   "id": "01527f8d-2bef-4ad4-9497-690cbbf4fdd2",
   "metadata": {},
   "outputs": [
    {
     "data": {
      "text/plain": [
       "0.9574271077563381"
      ]
     },
     "execution_count": 5,
     "metadata": {},
     "output_type": "execute_result"
    }
   ],
   "source": [
    "np.std(x)  #std deviation of the value"
   ]
  },
  {
   "cell_type": "markdown",
   "id": "06c5a2e5-322f-4378-a06f-5dd7a10e829e",
   "metadata": {},
   "source": [
    "Q3: What is Hypothesis testing? Why is it used? State the importance of Hypothesis testing."
   ]
  },
  {
   "cell_type": "markdown",
   "id": "860e87ae-5d63-49b3-998f-e71991a80e50",
   "metadata": {},
   "source": [
    "Hypothesis Testing is a type of statistical analysis in which you put your assumptions about a population parameter to the test. It is used to estimate the relationship between 2 statistical variables.\n",
    "\n",
    "The importance of hypothesis testing are following:-\n",
    "Null Hypothesis\n",
    "Alternate Hypothesis"
   ]
  },
  {
   "cell_type": "markdown",
   "id": "f8777558-9f78-465e-b9b1-fcd6cbd89c85",
   "metadata": {},
   "source": [
    "Q4. Create a hypothesis that states whether the average weight of male college students is greater than\n",
    "the average weight of female college students."
   ]
  },
  {
   "cell_type": "code",
   "execution_count": 6,
   "id": "529b93be-cbc2-4e0c-be64-c5e5de5fb001",
   "metadata": {},
   "outputs": [],
   "source": [
    "x=[45,67,34,56,23,56,97,87,77,67]  #x=weight of male college students\n",
    "y=[34,54,34,65,76,34,54,55,65,45]  #y=weight of female college students"
   ]
  },
  {
   "cell_type": "code",
   "execution_count": 7,
   "id": "c0cfad3b-d26b-4407-8b6c-8f2f9ac801a4",
   "metadata": {},
   "outputs": [
    {
     "data": {
      "text/plain": [
       "60.9"
      ]
     },
     "execution_count": 7,
     "metadata": {},
     "output_type": "execute_result"
    }
   ],
   "source": [
    "np.mean(x)  # average of male college students"
   ]
  },
  {
   "cell_type": "code",
   "execution_count": 8,
   "id": "526c0ba3-7771-4155-9dcd-ba8cb6a27aa1",
   "metadata": {},
   "outputs": [
    {
     "data": {
      "text/plain": [
       "51.6"
      ]
     },
     "execution_count": 8,
     "metadata": {},
     "output_type": "execute_result"
    }
   ],
   "source": [
    "np.mean(y)   # average of female college students"
   ]
  },
  {
   "cell_type": "code",
   "execution_count": 9,
   "id": "bf202a9c-e11c-4696-9892-2c8548943781",
   "metadata": {},
   "outputs": [],
   "source": [
    "# X>Y (male college student weight> female college student weight)"
   ]
  },
  {
   "cell_type": "markdown",
   "id": "7dab5769-b30f-44a9-915d-71a1893b340c",
   "metadata": {},
   "source": [
    "Q5. Write a Python script to conduct a hypothesis test on the difference between two population means,\n",
    "given a sample from each population."
   ]
  },
  {
   "cell_type": "markdown",
   "id": "9f0cbe5f-4850-41e7-b659-eab9fbea08d5",
   "metadata": {},
   "source": [
    "Two hypothesis test on the different are following:-\n",
    "1>Null Hypothesis:-the azumption you are bigning with, example:-fair the coin and coin is fair\n",
    "\n",
    "2>Alternate Hypothesis:-opposite of null hypothesis example:-fair the coin not equel to coin fair\n",
    "\n"
   ]
  },
  {
   "cell_type": "markdown",
   "id": "f89df0d5-d52d-447e-9f22-ffebb5ba00c9",
   "metadata": {},
   "source": [
    "Q6: What is a null and alternative hypothesis? Give some examples."
   ]
  },
  {
   "cell_type": "markdown",
   "id": "0b9114ef-69aa-4345-94c0-973e16ae7847",
   "metadata": {},
   "source": [
    "A Null Hypothesis is a type of hypothesis which is said to the azumption of the calculated the outcome bigning.\n",
    " \n",
    "An Alternative Hypothesis is type of hypothesis which is opposite of Null Hypothesis."
   ]
  },
  {
   "cell_type": "markdown",
   "id": "94e1645e-3a42-4a76-8544-0b2d22fac106",
   "metadata": {},
   "source": [
    "Q7: Write down the steps involved in hypothesis testing."
   ]
  },
  {
   "cell_type": "markdown",
   "id": "da3503be-8313-4e77-95a2-650e71d9ccc7",
   "metadata": {},
   "source": [
    "In hypothesis Testing there are two posiblites are generaly, when we calculate the valu of outcome the take a exaple of coins so there have two posibiltes there head and tails, so we have two parameters to check it how to find the solution Null Hypothesis and other one is Alternate hypothesis."
   ]
  },
  {
   "cell_type": "markdown",
   "id": "73970e01-b29b-413b-be2b-5b6f35b0a698",
   "metadata": {},
   "source": [
    "Q8. Define p-value and explain its significance in hypothesis testing."
   ]
  },
  {
   "cell_type": "markdown",
   "id": "e2579efe-041a-4c11-b099-9f7a2c92794c",
   "metadata": {},
   "source": [
    "The P value is a number, calculated from a statistical test,that describes how likely you are to have found a particular set of observation if the null hypothesis were true P values are used in hypothesis testing to help decide whether to regect the null hypothesis."
   ]
  },
  {
   "cell_type": "markdown",
   "id": "c29df142-ff5b-4611-86fb-e0eef59da48b",
   "metadata": {},
   "source": [
    "Q9. Generate a Student's t-distribution plot using Python's matplotlib library, with the degrees of freedom\n",
    "parameter set to 10."
   ]
  },
  {
   "cell_type": "code",
   "execution_count": 10,
   "id": "a57c17b5-8fe8-4680-86a6-36af84fa605b",
   "metadata": {},
   "outputs": [
    {
     "name": "stdout",
     "output_type": "stream",
     "text": [
      "Random Values:  [-2.64739849  1.40362756  2.48107116  3.68088098  2.17875801]\n"
     ]
    }
   ],
   "source": [
    "\n",
    "from scipy.stats import t\n",
    " \n",
    "a, b = 4, 3\n",
    "rv = t(a, b)\n",
    " \n",
    "# Generate random values from the t-distribution\n",
    "# Replace 10 with the desired number of random values\n",
    "random_values = rv.rvs(size=5)  \n",
    " \n",
    "print(\"Random Values: \", random_values)"
   ]
  },
  {
   "cell_type": "code",
   "execution_count": 11,
   "id": "3307ce4d-cb7f-449c-82cb-7ad34aed6b60",
   "metadata": {},
   "outputs": [
    {
     "name": "stdout",
     "output_type": "stream",
     "text": [
      "Random Variates :  0.008253800656000454\n",
      "Probability Distribution :  [0.00924092 0.01006157 0.01097128 0.0119813  0.01310443 0.01435532\n",
      " 0.01575068 0.01730965 0.01905409 0.02100903]\n"
     ]
    }
   ],
   "source": [
    "import numpy as np\n",
    "quantile = np.arange(0.01, 1, 0.1)\n",
    " \n",
    "# Random Variates\n",
    "R = t.rvs(a, b)\n",
    "print(\"Random Variates : \", R)\n",
    " \n",
    "# PDF\n",
    "R = t.pdf(a, b, quantile)\n",
    "print(\"Probability Distribution : \", R)"
   ]
  },
  {
   "cell_type": "code",
   "execution_count": 12,
   "id": "8c95c374-c406-4bfb-bf56-416585bc2112",
   "metadata": {},
   "outputs": [
    {
     "name": "stdout",
     "output_type": "stream",
     "text": [
      "Distribution: , distribution\n"
     ]
    },
    {
     "data": {
      "image/png": "[encoded data removed]",
      "text/plain": [
       "<Figure size 640x480 with 1 Axes>"
      ]
     },
     "metadata": {},
     "output_type": "display_data"
    }
   ],
   "source": [
    "import numpy as np\n",
    "import matplotlib.pyplot as plt\n",
    "\n",
    "distribution = np.linspace(0, np.minimum(rv.dist.b, 3))\n",
    "print(\"Distribution: , distribution\")\n",
    "\n",
    "plot = plt.plot(distribution, rv.pdf(distribution))\n"
   ]
  },
  {
   "cell_type": "markdown",
   "id": "4983ddd6-dfa5-4947-89e9-e6aedd071d1c",
   "metadata": {},
   "source": [
    "Q10. Write a Python program to calculate the two-sample t-test for independent samples, given two\n",
    "random samples of equal size and a null hypothesis that the population means are equal."
   ]
  },
  {
   "cell_type": "code",
   "execution_count": 14,
   "id": "5781f044-774f-436a-8f84-10c60500a49c",
   "metadata": {},
   "outputs": [
    {
     "data": {
      "text/plain": [
       "Ttest_indResult(statistic=-0.6337397070250238, pvalue=0.5300471010405257)"
      ]
     },
     "execution_count": 14,
     "metadata": {},
     "output_type": "execute_result"
    }
   ],
   "source": [
    "import scipy.stats as stats\n",
    " \n",
    "# Creating data groups\n",
    "data_group1 = np.array([14, 15, 15, 16, 13, 8, 14, \n",
    "                        17, 16, 14, 19, 20, 21, 15,\n",
    "                        15, 16, 16, 13, 14, 12])\n",
    " \n",
    "data_group2 = np.array([15, 17, 14, 17, 14, 8, 12, \n",
    "                        19, 19, 14, 17, 22, 24, 16, \n",
    "                        13, 16, 13, 18, 15, 13])\n",
    " \n",
    "# Perform the two sample t-test with equal variances\n",
    "stats.ttest_ind(a=data_group1, b=data_group2, equal_var=True)"
   ]
  },
  {
   "cell_type": "markdown",
   "id": "5cb603e4-e270-43c9-92c2-187886e4f1bc",
   "metadata": {},
   "source": [
    "Q11: What is Student’s t distribution? When to use the t-Distribution."
   ]
  },
  {
   "cell_type": "markdown",
   "id": "65cfe54c-a672-4c04-8f3e-0883ff91397d",
   "metadata": {},
   "source": [
    "In z stets when we perform  any analysis using z-score we requr under root (population standard deviation)\n",
    "\n",
    "it is used when we have to find population standard deviation.\n",
    "formula=z=((x-r)/under root /under root x)"
   ]
  },
  {
   "cell_type": "markdown",
   "id": "1af3ada9-6398-4073-8dd1-45fb95d0687e",
   "metadata": {},
   "source": [
    "Q12: What is t-statistic? State the formula for t-statistic."
   ]
  },
  {
   "attachments": {
    "459bb34f-b79c-4d40-b617-d33d3c339901.svg": {
     "image/svg+xml": [
      "PHN2ZyB4bGluaz0iaHR0cDovL3d3dy53My5vcmcvMTk5OS94bGluayIgd2lkdGg9IjE4M3B4IiBoZWlnaHQ9IjEwMHB4IiB2aWV3Qm94PSIwIC0zMDEwLjcgOTUwOC43IDUxOTEuNCIgcm9sZT0iaW1nIiBmb2N1c2FibGU9ImZhbHNlIiBzdHlsZT0idmVydGljYWwtYWxpZ246IC01LjA2NWV4OyIgYXJpYS1oaWRkZW49InRydWUiIHhtbG5zPSJodHRwOi8vd3d3LnczLm9yZy8yMDAwL3N2ZyI+PGcgc3Ryb2tlPSJjdXJyZW50Q29sb3IiIGZpbGw9ImN1cnJlbnRDb2xvciIgc3Ryb2tlLXdpZHRoPSIwIiB0cmFuc2Zvcm09Im1hdHJpeCgxIDAgMCAtMSAwIDApIj48cGF0aCBzdHJva2Utd2lkdGg9IjEwIiB0cmFuc2Zvcm09InNjYWxlKDEuNzMpIiBkPSJNMjYgMzg1UTE5IDM5MiAxOSAzOTVRMTkgMzk5IDIyIDQxMVQyNyA0MjVRMjkgNDMwIDM2IDQzMFQ4NyA0MzFIMTQwTDE1OSA1MTFRMTYyIDUyMiAxNjYgNTQwVDE3MyA1NjZUMTc5IDU4NlQxODcgNjAzVDE5NyA2MTVUMjExIDYyNFQyMjkgNjI2UTI0NyA2MjUgMjU0IDYxNVQyNjEgNTk2UTI2MSA1ODkgMjUyIDU0OVQyMzIgNDcwTDIyMiA0MzNRMjIyIDQzMSAyNzIgNDMxSDMyM1EzMzAgNDI0IDMzMCA0MjBRMzMwIDM5OCAzMTcgMzg1SDIxMEwxNzQgMjQwUTEzNSA4MCAxMzUgNjhRMTM1IDI2IDE2MiAyNlExOTcgMjYgMjMwIDYwVDI4MyAxNDRRMjg1IDE1MCAyODggMTUxVDMwMyAxNTNIMzA3UTMyMiAxNTMgMzIyIDE0NVEzMjIgMTQyIDMxOSAxMzNRMzE0IDExNyAzMDEgOTVUMjY3IDQ4VDIxNiA2VDE1NSAtMTFRMTI1IC0xMSA5OCA0VDU5IDU2UTU3IDY0IDU3IDgzVjEwMUw5MiAyNDFRMTI3IDM4MiAxMjggMzgzUTEyOCAzODUgNzcgMzg1SDI2WiI+PC9wYXRoPjxnIHRyYW5zZm9ybT0idHJhbnNsYXRlKDYzMywtNjY3KSI+PHBhdGggc3Ryb2tlLXdpZHRoPSIxMCIgdHJhbnNmb3JtPSJzY2FsZSgxLjIyMykiIGQ9Ik0yOSAtMTk0UTIzIC0xODggMjMgLTE4NlEyMyAtMTgzIDEwMiAxMzRUMTg2IDQ2NVEyMDggNTMzIDI0MyA1ODRUMzA5IDY1OFEzNjUgNzA1IDQyOSA3MDVINDMxUTQ5MyA3MDUgNTMzIDY2N1Q1NzMgNTcwUTU3MyA0NjUgNDY5IDM5Nkw0ODIgMzgzUTUzMyAzMzIgNTMzIDI1MlE1MzMgMTM5IDQ0OCA2NVQyNTcgLTEwUTIyNyAtMTAgMjAzIC0yVDE2NSAxN1QxNDMgNDBUMTMxIDU5VDEyNiA2NUw2MiAtMTg4UTYwIC0xOTQgNDIgLTE5NEgyOVpNMzUzIDQzMVEzOTIgNDMxIDQyNyA0MTlMNDMyIDQyMlE0MzYgNDI2IDQzOSA0MjlUNDQ5IDQzOVQ0NjEgNDUzVDQ3MiA0NzFUNDg0IDQ5NVQ0OTMgNTI0VDUwMSA1NjBRNTAzIDU2OSA1MDMgNTkzUTUwMyA2MTEgNTAyIDYxNlE0ODcgNjY3IDQyNiA2NjdRMzg0IDY2NyAzNDcgNjQzVDI4NiA1ODJUMjQ3IDUxNFQyMjQgNDU1UTIxOSA0MzkgMTg2IDMwOFQxNTIgMTY4UTE1MSAxNjMgMTUxIDE0N1ExNTEgOTkgMTczIDY4UTIwNCAyNiAyNjAgMjZRMzAyIDI2IDM0OSA1MVQ0MjUgMTM3UTQ0MSAxNzEgNDQ5IDIxNFQ0NTcgMjc5UTQ1NyAzMzcgNDIyIDM3MlEzODAgMzU4IDM0NyAzNThIMzM3UTI1OCAzNTggMjU4IDM4OVEyNTggMzk2IDI2MSA0MDNRMjc1IDQzMSAzNTMgNDMxWiI+PC9wYXRoPjxwYXRoIHN0cm9rZS13aWR0aD0iMTAiIHRyYW5zZm9ybT0idHJhbnNsYXRlKDk5LDMzOSkgc2NhbGUoMS4yMjMpIiBkPSJNMjc5IDY2OVEyNzMgNjY5IDE0MiA2MTBUOSA1NTFMMCA1NjlRLTggNTg1IC04IDU4N1EtOCA1ODggLTcgNTg4TDEyIDU5OFEzMCA2MDggNjYgNjI4VDEzNiA2NjZMMjc3IDc0NEw1NjQgNTg3TDU1NSA1NjlRNTQ5IDU1NiA1NDcgNTU0VDU0NCA1NTJRNTM5IDU1NSA0MTAgNjEyVDI3OSA2NjlaIj48L3BhdGg+PC9nPjxnIHRyYW5zZm9ybT0idHJhbnNsYXRlKDIwNzIsMCkiPjxwYXRoIHN0cm9rZS13aWR0aD0iMTAiIHRyYW5zZm9ybT0ic2NhbGUoMS43MykiIGQ9Ik01NiAzNDdRNTYgMzYwIDcwIDM2N0g3MDdRNzIyIDM1OSA3MjIgMzQ3UTcyMiAzMzYgNzA4IDMyOEwzOTAgMzI3SDcyUTU2IDMzMiA1NiAzNDdaTTU2IDE1M1E1NiAxNjggNzIgMTczSDcwOFE3MjIgMTYzIDcyMiAxNTNRNzIyIDE0MCA3MDcgMTMzSDcwUTU2IDE0MCA1NiAxNTNaIj48L3BhdGg+PC9nPjxnIHRyYW5zZm9ybT0idHJhbnNsYXRlKDM0MjYsMCkiPjxnIHRyYW5zZm9ybT0idHJhbnNsYXRlKDY4OCwwKSI+PHJlY3Qgc3Ryb2tlPSJub25lIiB3aWR0aD0iNTE4NiIgaGVpZ2h0PSIxMDMiIHg9IjAiIHk9IjM4MCI+PC9yZWN0PjxnIHRyYW5zZm9ybT0idHJhbnNsYXRlKDEwMywxMTcxKSI+PHBhdGggc3Ryb2tlLXdpZHRoPSIxMCIgdHJhbnNmb3JtPSJzY2FsZSgxLjczKSIgZD0iTTI5IC0xOTRRMjMgLTE4OCAyMyAtMTg2UTIzIC0xODMgMTAyIDEzNFQxODYgNDY1UTIwOCA1MzMgMjQzIDU4NFQzMDkgNjU4UTM2NSA3MDUgNDI5IDcwNUg0MzFRNDkzIDcwNSA1MzMgNjY3VDU3MyA1NzBRNTczIDQ2NSA0NjkgMzk2TDQ4MiAzODNRNTMzIDMzMiA1MzMgMjUyUTUzMyAxMzkgNDQ4IDY1VDI1NyAtMTBRMjI3IC0xMCAyMDMgLTJUMTY1IDE3VDE0MyA0MFQxMzEgNTlUMTI2IDY1TDYyIC0xODhRNjAgLTE5NCA0MiAtMTk0SDI5Wk0zNTMgNDMxUTM5MiA0MzEgNDI3IDQxOUw0MzIgNDIyUTQzNiA0MjYgNDM5IDQyOVQ0NDkgNDM5VDQ2MSA0NTNUNDcyIDQ3MVQ0ODQgNDk1VDQ5MyA1MjRUNTAxIDU2MFE1MDMgNTY5IDUwMyA1OTNRNTAzIDYxMSA1MDIgNjE2UTQ4NyA2NjcgNDI2IDY2N1EzODQgNjY3IDM0NyA2NDNUMjg2IDU4MlQyNDcgNTE0VDIyNCA0NTVRMjE5IDQzOSAxODYgMzA4VDE1MiAxNjhRMTUxIDE2MyAxNTEgMTQ3UTE1MSA5OSAxNzMgNjhRMjA0IDI2IDI2MCAyNlEzMDIgMjYgMzQ5IDUxVDQyNSAxMzdRNDQxIDE3MSA0NDkgMjE0VDQ1NyAyNzlRNDU3IDMzNyA0MjIgMzcyUTM4MCAzNTggMzQ3IDM1OEgzMzdRMjU4IDM1OCAyNTggMzg5UTI1OCAzOTYgMjYxIDQwM1EyNzUgNDMxIDM1MyA0MzFaIj48L3BhdGg+PHBhdGggc3Ryb2tlLXdpZHRoPSIxMCIgdHJhbnNmb3JtPSJ0cmFuc2xhdGUoMTA1LDQ4MCkgc2NhbGUoMS43MykiIGQ9Ik0yNzkgNjY5UTI3MyA2NjkgMTQyIDYxMFQ5IDU1MUwwIDU2OVEtOCA1ODUgLTggNTg3US04IDU4OCAtNyA1ODhMMTIgNTk4UTMwIDYwOCA2NiA2MjhUMTM2IDY2NkwyNzcgNzQ0TDU2NCA1ODdMNTU1IDU2OVE1NDkgNTU2IDU0NyA1NTRUNTQ0IDU1MlE1MzkgNTU1IDQxMCA2MTJUMjc5IDY2OVoiPjwvcGF0aD48ZyB0cmFuc2Zvcm09InRyYW5zbGF0ZSgxNDYwLDApIj48cGF0aCBzdHJva2Utd2lkdGg9IjEwIiB0cmFuc2Zvcm09InNjYWxlKDEuNzMpIiBkPSJNODQgMjM3VDg0IDI1MFQ5OCAyNzBINjc5UTY5NCAyNjIgNjk0IDI1MFQ2NzkgMjMwSDk4UTg0IDIzNyA4NCAyNTBaIj48L3BhdGg+PC9nPjxnIHRyYW5zZm9ybT0idHJhbnNsYXRlKDMxOTksMCkiPjxwYXRoIHN0cm9rZS13aWR0aD0iMTAiIHRyYW5zZm9ybT0ic2NhbGUoMS43MykiIGQ9Ik0yOSAtMTk0UTIzIC0xODggMjMgLTE4NlEyMyAtMTgzIDEwMiAxMzRUMTg2IDQ2NVEyMDggNTMzIDI0MyA1ODRUMzA5IDY1OFEzNjUgNzA1IDQyOSA3MDVINDMxUTQ5MyA3MDUgNTMzIDY2N1Q1NzMgNTcwUTU3MyA0NjUgNDY5IDM5Nkw0ODIgMzgzUTUzMyAzMzIgNTMzIDI1MlE1MzMgMTM5IDQ0OCA2NVQyNTcgLTEwUTIyNyAtMTAgMjAzIC0yVDE2NSAxN1QxNDMgNDBUMTMxIDU5VDEyNiA2NUw2MiAtMTg4UTYwIC0xOTQgNDIgLTE5NEgyOVpNMzUzIDQzMVEzOTIgNDMxIDQyNyA0MTlMNDMyIDQyMlE0MzYgNDI2IDQzOSA0MjlUNDQ5IDQzOVQ0NjEgNDUzVDQ3MiA0NzFUNDg0IDQ5NVQ0OTMgNTI0VDUwMSA1NjBRNTAzIDU2OSA1MDMgNTkzUTUwMyA2MTEgNTAyIDYxNlE0ODcgNjY3IDQyNiA2NjdRMzg0IDY2NyAzNDcgNjQzVDI4NiA1ODJUMjQ3IDUxNFQyMjQgNDU1UTIxOSA0MzkgMTg2IDMwOFQxNTIgMTY4UTE1MSAxNjMgMTUxIDE0N1ExNTEgOTkgMTczIDY4UTIwNCAyNiAyNjAgMjZRMzAyIDI2IDM0OSA1MVQ0MjUgMTM3UTQ0MSAxNzEgNDQ5IDIxNFQ0NTcgMjc5UTQ1NyAzMzcgNDIyIDM3MlEzODAgMzU4IDM0NyAzNThIMzM3UTI1OCAzNTggMjU4IDM4OVEyNTggMzk2IDI2MSA0MDNRMjc1IDQzMSAzNTMgNDMxWiI+PC9wYXRoPjxnIHRyYW5zZm9ybT0idHJhbnNsYXRlKDk4NywtNDE1KSI+PHBhdGggc3Ryb2tlLXdpZHRoPSIxMCIgdHJhbnNmb3JtPSJzY2FsZSgxLjIyMykiIGQ9Ik05NiA1ODVRMTUyIDY2NiAyNDkgNjY2UTI5NyA2NjYgMzQ1IDY0MFQ0MjMgNTQ4UTQ2MCA0NjUgNDYwIDMyMFE0NjAgMTY1IDQxNyA4M1EzOTcgNDEgMzYyIDE2VDMwMSAtMTVUMjUwIC0yMlEyMjQgLTIyIDE5OCAtMTZUMTM3IDE2VDgyIDgzUTM5IDE2NSAzOSAzMjBRMzkgNDk0IDk2IDU4NVpNMzIxIDU5N1EyOTEgNjI5IDI1MCA2MjlRMjA4IDYyOSAxNzggNTk3UTE1MyA1NzEgMTQ1IDUyNVQxMzcgMzMzUTEzNyAxNzUgMTQ1IDEyNVQxODEgNDZRMjA5IDE2IDI1MCAxNlEyOTAgMTYgMzE4IDQ2UTM0NyA3NiAzNTQgMTMwVDM2MiAzMzNRMzYyIDQ3OCAzNTQgNTI0VDMyMSA1OTdaIj48L3BhdGg+PC9nPjwvZz48L2c+PGcgdHJhbnNmb3JtPSJ0cmFuc2xhdGUoMjk0LC0xNjM4KSI+PHBhdGggc3Ryb2tlLXdpZHRoPSIxMCIgdHJhbnNmb3JtPSJzY2FsZSgxLjczKSIgZD0iTTU1IDUwN1E1NSA1OTAgMTEyIDY0N1QyNDMgNzA0SDI1N1EzNDIgNzA0IDQwNSA2NDFMNDI2IDY3MlE0MzEgNjc5IDQzNiA2ODdUNDQ2IDcwMEw0NDkgNzA0UTQ1MCA3MDQgNDUzIDcwNFQ0NTkgNzA1SDQ2M1E0NjYgNzA1IDQ3MiA2OTlWNDYyTDQ2NiA0NTZINDQ4UTQzNyA0NTYgNDM1IDQ1OVQ0MzAgNDc5UTQxMyA2MDUgMzI5IDY0NlEyOTIgNjYyIDI1NCA2NjJRMjAxIDY2MiAxNjggNjI2VDEzNSA1NDJRMTM1IDUwOCAxNTIgNDgwVDIwMCA0MzVRMjEwIDQzMSAyODYgNDEyVDM3MCAzODlRNDI3IDM2NyA0NjMgMzE0VDUwMCAxOTFRNTAwIDExMCA0NDggNDVUMzAxIC0yMVEyNDUgLTIxIDIwMSAtNFQxNDAgMjdMMTIyIDQxUTExOCAzNiAxMDcgMjFUODcgLTdUNzggLTIxUTc2IC0yMiA2OCAtMjJINjRRNjEgLTIyIDU1IC0xNlYxMDFRNTUgMjIwIDU2IDIyMlE1OCAyMjcgNzYgMjI3SDg5UTk1IDIyMSA5NSAyMTRROTUgMTgyIDEwNSAxNTFUMTM5IDkwVDIwNSA0MlQzMDUgMjRRMzUyIDI0IDM4NiA2MlQ0MjAgMTU1UTQyMCAxOTggMzk4IDIzM1QzNDAgMjgxUTI4NCAyOTUgMjY2IDMwMFEyNjEgMzAxIDIzOSAzMDZUMjA2IDMxNFQxNzQgMzI1VDE0MSAzNDNUMTEyIDM2N1Q4NSA0MDJRNTUgNDUxIDU1IDUwN1oiPjwvcGF0aD48ZyB0cmFuc2Zvcm09InRyYW5zbGF0ZSg5NzAsMCkiPjxwYXRoIHN0cm9rZS13aWR0aD0iMTAiIHRyYW5zZm9ybT0ic2NhbGUoMS43MykiIGQ9Ik0xMjggNjE5UTEyMSA2MjYgMTE3IDYyOFQxMDEgNjMxVDU4IDYzNEgyNVY2ODBINTk3VjY3NlE1OTkgNjcwIDYxMSA1NjBUNjI1IDQ0NFY0NDBINTg1VjQ0NFE1ODQgNDQ3IDU4MiA0NjVRNTc4IDUwMCA1NzAgNTI2VDU1MyA1NzFUNTI4IDYwMVQ0OTggNjE5VDQ1NyA2MjlUNDExIDYzM1QzNTMgNjM0UTI2NiA2MzQgMjUxIDYzM1QyMzMgNjIyUTIzMyA2MjIgMjMzIDYyMVEyMzIgNjE5IDIzMiA0OTdWMzc2SDI4NlEzNTkgMzc4IDM3NyAzODVRNDEzIDQwMSA0MTYgNDY5UTQxNiA0NzEgNDE2IDQ3M1Y0OTNINDU2VjIxM0g0MTZWMjMzUTQxNSAyNjggNDA4IDI4OFQzODMgMzE3VDM0OSAzMjhUMjk3IDMzMFEyOTAgMzMwIDI4NiAzMzBIMjMyVjE5NlYxMTRRMjMyIDU3IDIzNyA1MlEyNDMgNDcgMjg5IDQ3SDM0MEgzOTFRNDI4IDQ3IDQ1MiA1MFQ1MDUgNjJUNTUyIDkyVDU4NCAxNDZRNTk0IDE3MiA1OTkgMjAwVDYwNyAyNDdUNjEyIDI3MFYyNzNINjUyVjI3MFE2NTEgMjY3IDYzMiAxMzdUNjEwIDNWMEgyNVY0Nkg1OFExMDAgNDcgMTA5IDQ5VDEyOCA2MVY2MTlaIj48L3BhdGg+PC9nPjxnIHRyYW5zZm9ybT0idHJhbnNsYXRlKDIxNTcsMCkiPjxwYXRoIHN0cm9rZS13aWR0aD0iMTAiIHRyYW5zZm9ybT0ic2NhbGUoMS43MykiIGQ9Ik05NCAyNTBROTQgMzE5IDEwNCAzODFUMTI3IDQ4OFQxNjQgNTc2VDIwMiA2NDNUMjQ0IDY5NVQyNzcgNzI5VDMwMiA3NTBIMzE1SDMxOVEzMzMgNzUwIDMzMyA3NDFRMzMzIDczOCAzMTYgNzIwVDI3NSA2NjdUMjI2IDU4MVQxODQgNDQzVDE2NyAyNTBUMTg0IDU4VDIyNSAtODFUMjc0IC0xNjdUMzE2IC0yMjBUMzMzIC0yNDFRMzMzIC0yNTAgMzE4IC0yNTBIMzE1SDMwMkwyNzQgLTIyNlExODAgLTE0MSAxMzcgLTE0VDk0IDI1MFoiPjwvcGF0aD48L2c+PGcgdHJhbnNmb3JtPSJ0cmFuc2xhdGUoMjgzOCwwKSI+PHBhdGggc3Ryb2tlLXdpZHRoPSIxMCIgdHJhbnNmb3JtPSJzY2FsZSgxLjczKSIgZD0iTTI5IC0xOTRRMjMgLTE4OCAyMyAtMTg2UTIzIC0xODMgMTAyIDEzNFQxODYgNDY1UTIwOCA1MzMgMjQzIDU4NFQzMDkgNjU4UTM2NSA3MDUgNDI5IDcwNUg0MzFRNDkzIDcwNSA1MzMgNjY3VDU3MyA1NzBRNTczIDQ2NSA0NjkgMzk2TDQ4MiAzODNRNTMzIDMzMiA1MzMgMjUyUTUzMyAxMzkgNDQ4IDY1VDI1NyAtMTBRMjI3IC0xMCAyMDMgLTJUMTY1IDE3VDE0MyA0MFQxMzEgNTlUMTI2IDY1TDYyIC0xODhRNjAgLTE5NCA0MiAtMTk0SDI5Wk0zNTMgNDMxUTM5MiA0MzEgNDI3IDQxOUw0MzIgNDIyUTQzNiA0MjYgNDM5IDQyOVQ0NDkgNDM5VDQ2MSA0NTNUNDcyIDQ3MVQ0ODQgNDk1VDQ5MyA1MjRUNTAxIDU2MFE1MDMgNTY5IDUwMyA1OTNRNTAzIDYxMSA1MDIgNjE2UTQ4NyA2NjcgNDI2IDY2N1EzODQgNjY3IDM0NyA2NDNUMjg2IDU4MlQyNDcgNTE0VDIyNCA0NTVRMjE5IDQzOSAxODYgMzA4VDE1MiAxNjhRMTUxIDE2MyAxNTEgMTQ3UTE1MSA5OSAxNzMgNjhRMjA0IDI2IDI2MCAyNlEzMDIgMjYgMzQ5IDUxVDQyNSAxMzdRNDQxIDE3MSA0NDkgMjE0VDQ1NyAyNzlRNDU3IDMzNyA0MjIgMzcyUTM4MCAzNTggMzQ3IDM1OEgzMzdRMjU4IDM1OCAyNTggMzg5UTI1OCAzOTYgMjYxIDQwM1EyNzUgNDMxIDM1MyA0MzFaIj48L3BhdGg+PHBhdGggc3Ryb2tlLXdpZHRoPSIxMCIgdHJhbnNmb3JtPSJ0cmFuc2xhdGUoMTA1LDQ4MCkgc2NhbGUoMS43MykiIGQ9Ik0yNzkgNjY5UTI3MyA2NjkgMTQyIDYxMFQ5IDU1MUwwIDU2OVEtOCA1ODUgLTggNTg3US04IDU4OCAtNyA1ODhMMTIgNTk4UTMwIDYwOCA2NiA2MjhUMTM2IDY2NkwyNzcgNzQ0TDU2NCA1ODdMNTU1IDU2OVE1NDkgNTU2IDU0NyA1NTRUNTQ0IDU1MlE1MzkgNTU1IDQxMCA2MTJUMjc5IDY2OVoiPjwvcGF0aD48L2c+PGcgdHJhbnNmb3JtPSJ0cmFuc2xhdGUoMzkxNSwwKSI+PHBhdGggc3Ryb2tlLXdpZHRoPSIxMCIgdHJhbnNmb3JtPSJzY2FsZSgxLjczKSIgZD0iTTYwIDc0OUw2NCA3NTBRNjkgNzUwIDc0IDc1MEg4NkwxMTQgNzI2UTIwOCA2NDEgMjUxIDUxNFQyOTQgMjUwUTI5NCAxODIgMjg0IDExOVQyNjEgMTJUMjI0IC03NlQxODYgLTE0M1QxNDUgLTE5NFQxMTMgLTIyN1Q5MCAtMjQ2UTg3IC0yNDkgODYgLTI1MEg3NFE2NiAtMjUwIDYzIC0yNTBUNTggLTI0N1Q1NSAtMjM4UTU2IC0yMzcgNjYgLTIyNVEyMjEgLTY0IDIyMSAyNTBUNjYgNzI1UTU2IDczNyA1NSA3MzhRNTUgNzQ2IDYwIDc0OVoiPjwvcGF0aD48L2c+PC9nPjwvZz48L2c+PC9nPjwvc3ZnPg=="
     ]
    }
   },
   "cell_type": "markdown",
   "id": "50be4026-943f-4691-a82f-e81e69473836",
   "metadata": {},
   "source": [
    "The t-statistic is used in a t-test to determine whether to support or reject the null hypothesis. It is very similar to the z-score but with the difference that t-statistic is used when the sample size is small or the population standard deviation is unknown.![t_statistic.svg](attachment:459bb34f-b79c-4d40-b617-d33d3c339901.svg)"
   ]
  },
  {
   "cell_type": "markdown",
   "id": "b1d6258e-fc2f-4c94-837c-14838a966475",
   "metadata": {},
   "source": [
    "Q13. A coffee shop owner wants to estimate the average daily revenue for their shop. They take a random\n",
    "sample of 50 days and find the sample mean revenue to be $500 with a standard deviation of $50.\n",
    "Estimate the population mean revenue with a 95% confidence interval."
   ]
  },
  {
   "cell_type": "markdown",
   "id": "1537034a-11cc-448c-ae27-5fa4f01e75fa",
   "metadata": {},
   "source": [
    "daily revenue= x\n",
    "n= 50 days\n",
    "sample mean(N)=500\n",
    "PN(population mean revenue)=0.95\n",
    " so,"
   ]
  },
  {
   "cell_type": "code",
   "execution_count": 17,
   "id": "c38c8b35-c263-448c-b9ef-2965bab696a3",
   "metadata": {},
   "outputs": [],
   "source": [
    "x=500/50"
   ]
  },
  {
   "cell_type": "code",
   "execution_count": 18,
   "id": "bd926347-2a6e-4e25-b58c-36dbb66b15b5",
   "metadata": {},
   "outputs": [
    {
     "data": {
      "text/plain": [
       "10.0"
      ]
     },
     "execution_count": 18,
     "metadata": {},
     "output_type": "execute_result"
    }
   ],
   "source": [
    "x  #per day revenue"
   ]
  },
  {
   "cell_type": "code",
   "execution_count": 19,
   "id": "b1775071-5a1a-4126-85d7-4dab12131d7d",
   "metadata": {},
   "outputs": [],
   "source": [
    "x1=10*0.95"
   ]
  },
  {
   "cell_type": "code",
   "execution_count": 20,
   "id": "82e0f5a2-6103-47cc-abcb-ecc0235a2f67",
   "metadata": {},
   "outputs": [
    {
     "data": {
      "text/plain": [
       "9.5"
      ]
     },
     "execution_count": 20,
     "metadata": {},
     "output_type": "execute_result"
    }
   ],
   "source": [
    "x1  # including with population revenue"
   ]
  },
  {
   "cell_type": "markdown",
   "id": "5ffe60be-b7f8-44f8-be21-e7def505e3b0",
   "metadata": {},
   "source": [
    "Q14. A researcher hypothesizes that a new drug will decrease blood pressure by 10 mmHg. They conduct a\n",
    "clinical trial with 100 patients and find that the sample mean decrease in blood pressure is 8 mmHg with a\n",
    "standard deviation of 3 mmHg. Test the hypothesis with a significance level of 0.05."
   ]
  },
  {
   "cell_type": "markdown",
   "id": "0e2cfb11-71fd-497d-8c98-bef21cb5cc18",
   "metadata": {},
   "source": [
    "n<10mmHg\n",
    "trial patients=100\n",
    "find the blood pressure>8 mmHg \n",
    "lemada=0.05"
   ]
  },
  {
   "cell_type": "code",
   "execution_count": 21,
   "id": "b94fb056-7f86-4547-81a6-d5bd497d8f21",
   "metadata": {},
   "outputs": [
    {
     "data": {
      "text/plain": [
       "5.0"
      ]
     },
     "execution_count": 21,
     "metadata": {},
     "output_type": "execute_result"
    }
   ],
   "source": [
    "x=100*0.05\n",
    "x  "
   ]
  },
  {
   "cell_type": "code",
   "execution_count": 22,
   "id": "b12bd886-345f-423c-ba05-bbe884e06f1a",
   "metadata": {},
   "outputs": [],
   "source": [
    "x1=5.0*10"
   ]
  },
  {
   "cell_type": "code",
   "execution_count": 23,
   "id": "c13f6693-0e2b-455c-bcc5-dc90d1482cbc",
   "metadata": {},
   "outputs": [
    {
     "data": {
      "text/plain": [
       "50.0"
      ]
     },
     "execution_count": 23,
     "metadata": {},
     "output_type": "execute_result"
    }
   ],
   "source": [
    "x1   #decrease by the 3 mmHg"
   ]
  },
  {
   "cell_type": "code",
   "execution_count": 24,
   "id": "5676e15f-0ed5-4aba-8a1a-c4051ec49802",
   "metadata": {},
   "outputs": [
    {
     "data": {
      "text/plain": [
       "47.0"
      ]
     },
     "execution_count": 24,
     "metadata": {},
     "output_type": "execute_result"
    }
   ],
   "source": [
    "x1-3"
   ]
  },
  {
   "cell_type": "markdown",
   "id": "2815c834-118f-473e-82b0-d674bddaf52a",
   "metadata": {},
   "source": [
    "Q15. An electronics company produces a certain type of product with a mean weight of 5 pounds and a\n",
    "standard deviation of 0.5 pounds. A random sample of 25 products is taken, and the sample mean weight\n",
    "is found to be 4.8 pounds. Test the hypothesis that the true mean weight of the products is less than 5\n",
    "pounds with a significance level of 0.01."
   ]
  },
  {
   "cell_type": "markdown",
   "id": "14b53cf0-64bf-41a6-9ab3-3d392b678d2a",
   "metadata": {},
   "source": [
    "a=5 pound \n",
    "s=0.5\n",
    "n=25 pound\n",
    "ns=4.8pound\n",
    ">5 pond_(ha)"
   ]
  },
  {
   "cell_type": "code",
   "execution_count": 26,
   "id": "06753ae9-e6f2-48b7-a8b7-7c1fc05b457c",
   "metadata": {},
   "outputs": [
    {
     "data": {
      "text/plain": [
       "2.5"
      ]
     },
     "execution_count": 26,
     "metadata": {},
     "output_type": "execute_result"
    }
   ],
   "source": [
    "x=5*0.5\n",
    "x"
   ]
  },
  {
   "cell_type": "markdown",
   "id": "754ce790-3b03-4b2b-8173-eabc425ae116",
   "metadata": {},
   "source": [
    "Q16. Two groups of students are given different study materials to prepare for a test. The first group (n1 =\n",
    "30) has a mean score of 80 with a standard deviation of 10, and the second group (n2 = 40) has a mean\n",
    "score of 75 with a standard deviation of 8. Test the hypothesis that the population means for the two\n",
    "groups are equal with a significance level of 0.01."
   ]
  },
  {
   "cell_type": "markdown",
   "id": "6238faa5-b84a-4f3a-b929-c27787e0d02d",
   "metadata": {},
   "source": [
    "n1=30\n",
    "s=80, sd=10\n",
    "n2=40\n",
    "s=75, sd=8\n",
    "lemada=0.01"
   ]
  },
  {
   "cell_type": "code",
   "execution_count": 27,
   "id": "a2365da9-8a12-4672-a01f-df121dd9d62b",
   "metadata": {},
   "outputs": [
    {
     "data": {
      "text/plain": [
       "0.3"
      ]
     },
     "execution_count": 27,
     "metadata": {},
     "output_type": "execute_result"
    }
   ],
   "source": [
    "x=30*0.01\n",
    "x   #for n1"
   ]
  },
  {
   "cell_type": "code",
   "execution_count": 28,
   "id": "58e30d6b-a00c-4bfb-aa5c-648c56ab7ac0",
   "metadata": {},
   "outputs": [
    {
     "data": {
      "text/plain": [
       "0.4"
      ]
     },
     "execution_count": 28,
     "metadata": {},
     "output_type": "execute_result"
    }
   ],
   "source": [
    "x1=40*0.01\n",
    "x1   for n2"
   ]
  },
  {
   "cell_type": "markdown",
   "id": "c49b3ab5-086d-4018-8556-252f94748ef5",
   "metadata": {},
   "source": [
    "Q17. A marketing company wants to estimate the average number of ads watched by viewers during a TV\n",
    "program. They take a random sample of 50 viewers and find that the sample mean is 4 with a standard\n",
    "deviation of 1.5. Estimate the population mean with a 99% confidence interval."
   ]
  },
  {
   "cell_type": "markdown",
   "id": "17a02352-97b5-4e14-8ca7-8dd1027c22c3",
   "metadata": {},
   "source": [
    "n=50\n",
    "a=4  sd=1.5\n",
    "ds=99%"
   ]
  },
  {
   "cell_type": "code",
   "execution_count": 30,
   "id": "b981ce1b-6c4f-4b56-88a6-91e4ef260df4",
   "metadata": {},
   "outputs": [
    {
     "data": {
      "text/plain": [
       "75.0"
      ]
     },
     "execution_count": 30,
     "metadata": {},
     "output_type": "execute_result"
    }
   ],
   "source": [
    "x=50*1.5\n",
    "x"
   ]
  },
  {
   "cell_type": "code",
   "execution_count": 31,
   "id": "2de613fa-292b-4cb8-ab6e-2fcf735528c4",
   "metadata": {},
   "outputs": [],
   "source": [
    "x1=75.0+0.99"
   ]
  },
  {
   "cell_type": "code",
   "execution_count": 32,
   "id": "e28a3b74-c900-46f7-b2bb-f6c245d2a6f9",
   "metadata": {},
   "outputs": [
    {
     "data": {
      "text/plain": [
       "75.99"
      ]
     },
     "execution_count": 32,
     "metadata": {},
     "output_type": "execute_result"
    }
   ],
   "source": [
    "x1"
   ]
  },
  {
   "cell_type": "code",
   "execution_count": null,
   "id": "4d6bff63-af32-41c3-86ab-daa7f25e427b",
   "metadata": {},
   "outputs": [],
   "source": []
  }
 ],
 "metadata": {
  "kernelspec": {
   "display_name": "Python 3 (ipykernel)",
   "language": "python",
   "name": "python3"
  },
  "language_info": {
   "codemirror_mode": {
    "name": "ipython",
    "version": 3
   },
   "file_extension": ".py",
   "mimetype": "text/x-python",
   "name": "python",
   "nbconvert_exporter": "python",
   "pygments_lexer": "ipython3",
   "version": "3.10.8"
  }
 },
 "nbformat": 4,
 "nbformat_minor": 5
}
